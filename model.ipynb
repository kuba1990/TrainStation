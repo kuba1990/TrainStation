{
  "nbformat": 4,
  "nbformat_minor": 0,
  "metadata": {
    "colab": {
      "name": "model.ipynb",
      "provenance": [],
      "include_colab_link": true
    },
    "kernelspec": {
      "name": "python3",
      "display_name": "Python 3"
    }
  },
  "cells": [
    {
      "cell_type": "markdown",
      "metadata": {
        "id": "view-in-github",
        "colab_type": "text"
      },
      "source": [
        "<a href=\"https://colab.research.google.com/github/kuba1990/TrainStation/blob/master/model.ipynb\" target=\"_parent\"><img src=\"https://colab.research.google.com/assets/colab-badge.svg\" alt=\"Open In Colab\"/></a>"
      ]
    },
    {
      "cell_type": "markdown",
      "metadata": {
        "id": "p5u32nIeqPmo"
      },
      "source": [
        "...."
      ]
    },
    {
      "cell_type": "code",
      "metadata": {
        "id": "UoetRnOIqPKK"
      },
      "source": [
        "import os\r\n",
        "import time\r\n",
        "from google.colab import drive\r\n",
        "\r\n",
        "import random\r\n",
        "from random import shuffle\r\n",
        "import shutil\r\n",
        "\r\n",
        "from keras.preprocessing import image\r\n",
        "from keras.preprocessing.image import ImageDataGenerator\r\n",
        "from keras import layers\r\n",
        "from keras import models\r\n",
        "from keras import optimizers\r\n",
        "\r\n",
        "import matplotlib.pyplot as plt\r\n",
        "import numpy as np"
      ],
      "execution_count": null,
      "outputs": []
    },
    {
      "cell_type": "code",
      "metadata": {
        "id": "k-K_yvd1qKGP"
      },
      "source": [
        "def make_accuracy_plot(history, fig_size = (10, 8)):\r\n",
        "    \"\"\"\r\n",
        "    Funkcja zwraca wykres dokładności (accuracy) modelu na zbiorze treningowym\r\n",
        "    i walidacyjnym.\r\n",
        "    \"\"\"\r\n",
        "    acc = history.history['accuracy']\r\n",
        "    val_acc = history.history['val_accuracy']\r\n",
        "    epochs = range(1, len(acc) + 1)\r\n",
        "\r\n",
        "    plt.figure(figsize = fig_size)\r\n",
        "    plt.plot(epochs, acc, label = 'Dokładność trenowania', marker = 'o')\r\n",
        "    plt.plot(epochs, val_acc, label = 'Dokładność walidacji', marker = 'o')\r\n",
        "    plt.legend()\r\n",
        "    plt.title('Dokładność trenowania i walidacji')\r\n",
        "    plt.xlabel('Epoki')\r\n",
        "    plt.ylabel('Dokładność')\r\n",
        "    plt.show()\r\n",
        "\r\n",
        "def make_loss_plot(history, fig_size = (10, 8)):\r\n",
        "    \"\"\"\r\n",
        "    Funkcja zwraca wykres straty (loss) modelu na zbiorze treningowym\r\n",
        "    i walidacyjnym.\r\n",
        "    \"\"\"\r\n",
        "    loss, val_loss = history.history['loss'], history.history['val_loss']\r\n",
        "    epochs = range(1, len(loss) + 1)\r\n",
        "    \r\n",
        "    plt.figure(figsize = fig_size)\r\n",
        "    plt.plot(epochs, loss, label = 'Strata trenowania', marker = 'o')\r\n",
        "    plt.plot(epochs, val_loss, label = 'Strata walidacji', marker = 'o')\r\n",
        "    plt.legend()\r\n",
        "    plt.title('Strata trenowania i walidacji')\r\n",
        "    plt.xlabel('Epoki')\r\n",
        "    plt.ylabel('Strata')\r\n",
        "    plt.show()\r\n",
        "    \r\n",
        "def display_augmented_images(directory, index):\r\n",
        "    \"\"\"\r\n",
        "    Funkcja zwraca wykres przykładowych obrazów uzyskanych za pomocą techniki\r\n",
        "    augmentacji danych.\r\n",
        "    \"\"\"\r\n",
        "    fnames = [os.path.join(directory, fname) for fname in os.listdir(directory)]\r\n",
        "    img_path = fnames[index]\r\n",
        "    img = image.load_img(img_path, target_size = (448, 448))\r\n",
        "\r\n",
        "    x = image.img_to_array(img)\r\n",
        "    x = x.reshape((1, ) + x.shape)\r\n",
        "\r\n",
        "    i = 1\r\n",
        "    plt.figure(figsize = (17, 13))\r\n",
        "    for batch in datagen.flow(x, batch_size=1):\r\n",
        "        plt.subplot(3, 4, i)\r\n",
        "        plt.grid(False)\r\n",
        "        imgplot = plt.imshow(image.array_to_img(batch[0]))\r\n",
        "        i += 1\r\n",
        "        if i % 13 == 0:\r\n",
        "            break"
      ],
      "execution_count": null,
      "outputs": []
    },
    {
      "cell_type": "markdown",
      "metadata": {
        "id": "DFsZbSlaqMmc"
      },
      "source": [
        "Powyższe komórki to tylko import oraz rysowanie wykresów."
      ]
    },
    {
      "cell_type": "code",
      "metadata": {
        "id": "tG8-Dsb0rDuZ"
      },
      "source": [
        "%%bash\r\n",
        "rm -rf /content/*"
      ],
      "execution_count": null,
      "outputs": []
    },
    {
      "cell_type": "code",
      "metadata": {
        "id": "qs6kISHbsgk-"
      },
      "source": [
        "base_directory = '/content/teeth_images'\r\n",
        "\r\n",
        "if not os.path.exists(base_directory):\r\n",
        "    os.mkdir(base_directory)\r\n",
        "\r\n",
        "train_directory = os.path.join(base_directory, 'train')\r\n",
        "valid_directory = os.path.join(base_directory, 'valid')\r\n",
        "test_directory = os.path.join(base_directory, 'test')\r\n",
        "\r\n",
        "\r\n",
        "for directory in (train_directory, valid_directory, test_directory):\r\n",
        "    if not os.path.exists(directory):\r\n",
        "        os.mkdir(directory)\r\n",
        "\r\n",
        "train_positive_directory = os.path.join(train_directory, 'positive')\r\n",
        "train_negative_directory = os.path.join(train_directory, 'negative')\r\n",
        "\r\n",
        "valid_positive_directory = os.path.join(valid_directory, 'positive')\r\n",
        "valid_negative_directory = os.path.join(valid_directory, 'negative')\r\n",
        "\r\n",
        "test_positive_directory = os.path.join(test_directory, 'positive')\r\n",
        "test_negative_directory = os.path.join(test_directory, 'negative')\r\n",
        "\r\n",
        "all_directory = [train_positive_directory, train_negative_directory, \\\r\n",
        "                 valid_positive_directory, valid_negative_directory, \\\r\n",
        "                 test_positive_directory, test_negative_directory]\r\n",
        "\r\n",
        "for directory in all_directory:\r\n",
        "    if not os.path.exists(directory):\r\n",
        "        os.mkdir(directory)"
      ],
      "execution_count": null,
      "outputs": []
    },
    {
      "cell_type": "code",
      "metadata": {
        "colab": {
          "base_uri": "https://localhost:8080/"
        },
        "id": "klTHeh7KrOsW",
        "outputId": "875dd073-0501-4c0d-836b-e048b72af54c"
      },
      "source": [
        "drive.mount(\"/drive\")"
      ],
      "execution_count": null,
      "outputs": [
        {
          "output_type": "stream",
          "text": [
            "Mounted at /drive\n"
          ],
          "name": "stdout"
        }
      ]
    },
    {
      "cell_type": "code",
      "metadata": {
        "id": "76xZ86ufrPqQ"
      },
      "source": [
        "%%bash\r\n",
        "unzip -q '/drive/My Drive/zdjecia.zip' -d /content/original_data"
      ],
      "execution_count": null,
      "outputs": []
    },
    {
      "cell_type": "code",
      "metadata": {
        "id": "tnEbRoRqrSId"
      },
      "source": [
        "zdjecia = ['/content/original_data/zdjйcia/chore', \\\r\n",
        "           '/content/original_data/zdjйcia/zdrowe']\r\n",
        "new_name = ['positive', 'negative']\r\n",
        "total_images = 0\r\n",
        "total_image_names = []\r\n",
        "\r\n",
        "for i, c_name in enumerate(zdjecia):\r\n",
        "    file_list = os.listdir(c_name)\r\n",
        "    total_images += len(file_list)\r\n",
        "    total_image_names.append(file_list)\r\n",
        "    for count, file_name in enumerate(file_list):\r\n",
        "        if new_name[i] in file_name.split('.'):\r\n",
        "            break\r\n",
        "        new = new_name[i] + '.' + str(count) + '.jpg'\r\n",
        "        old = c_name + '/' + file_name \r\n",
        "        new = c_name + '/' + new\r\n",
        "        os.rename(old, new)"
      ],
      "execution_count": null,
      "outputs": []
    },
    {
      "cell_type": "markdown",
      "metadata": {
        "id": "V1AnQUojrbUB"
      },
      "source": [
        "Powyższe komórki rozpakowują zdjęcia z gdrive i pakują do colab."
      ]
    },
    {
      "cell_type": "code",
      "metadata": {
        "id": "FYE_GwQMrj-M"
      },
      "source": [
        "#72 zdjęcia zdrowe\r\n",
        "a = 50\r\n",
        "b = 72\r\n",
        "c = 72 #bez zbioru test\r\n",
        "\r\n",
        "file_names = ['negative.{}.jpg'.format(i) for i in range(a)]\r\n",
        "for file_name in file_names:\r\n",
        "    source = os.path.join(zdjecia[1], file_name)\r\n",
        "    destination = os.path.join(train_negative_directory, file_name)\r\n",
        "    shutil.copyfile(source, destination)\r\n",
        "\r\n",
        "file_names = ['negative.{}.jpg'.format(i) for i in range(a, b)]\r\n",
        "for file_name in file_names:\r\n",
        "    source = os.path.join(zdjecia[1], file_name)\r\n",
        "    destination = os.path.join(valid_negative_directory, file_name)\r\n",
        "    shutil.copyfile(source, destination)\r\n",
        "\r\n",
        "file_names = ['negative.{}.jpg'.format(i) for i in range(b, c)]\r\n",
        "for file_name in file_names:\r\n",
        "    source = os.path.join(zdjecia[1], file_name)\r\n",
        "    destination = os.path.join(test_negative_directory, file_name)\r\n",
        "    shutil.copyfile(source, destination)\r\n",
        "\r\n",
        "\r\n",
        "\r\n",
        "#48 zdjęcia chore\r\n",
        "a = 30\r\n",
        "b = 48\r\n",
        "c = 48 #bez zbioru test\r\n",
        "\r\n",
        "file_names = ['positive.{}.jpg'.format(i) for i in range(a)]\r\n",
        "for file_name in file_names:\r\n",
        "    source = os.path.join(zdjecia[0], file_name)\r\n",
        "    destination = os.path.join(train_positive_directory, file_name)\r\n",
        "    shutil.copyfile(source, destination)\r\n",
        "\r\n",
        "file_names = ['positive.{}.jpg'.format(i) for i in range(a, b)]\r\n",
        "for file_name in file_names:\r\n",
        "    source = os.path.join(zdjecia[0], file_name)\r\n",
        "    destination = os.path.join(valid_positive_directory, file_name)\r\n",
        "    shutil.copyfile(source, destination)\r\n",
        "\r\n",
        "file_names = ['positive.{}.jpg'.format(i) for i in range(b, c)]\r\n",
        "for file_name in file_names:\r\n",
        "    source = os.path.join(zdjecia[0], file_name)\r\n",
        "    destination = os.path.join(test_positive_directory, file_name)\r\n",
        "    shutil.copyfile(source, destination)"
      ],
      "execution_count": null,
      "outputs": []
    },
    {
      "cell_type": "code",
      "metadata": {
        "colab": {
          "base_uri": "https://localhost:8080/"
        },
        "id": "Y9M1riOcsGEH",
        "outputId": "3d40e049-ebb1-45dd-9d9e-6f4b80ec9c0d"
      },
      "source": [
        "print('Zdjęcia \"chore\" w zbiorze: train', len(os.listdir(train_positive_directory)))\r\n",
        "print('Zdjęcia \"chore\" w zbiorze: valid', len(os.listdir(valid_positive_directory)))\r\n",
        "print('Zdjęcia \"chore\" w zbiorze: test', len(os.listdir(test_positive_directory)))\r\n",
        "print()\r\n",
        "print('Zdjęcia \"zdrowe\" w zbiorze: train', len(os.listdir(train_negative_directory)))\r\n",
        "print('Zdjęcia \"zdrowe\" w zbiorze: valid', len(os.listdir(valid_negative_directory)))\r\n",
        "print('Zdjęcia \"zdrowe\" w zbiorze: test', len(os.listdir(test_negative_directory)))"
      ],
      "execution_count": null,
      "outputs": [
        {
          "output_type": "stream",
          "text": [
            "Zdjęcia \"chore\" w zbiorze: train 30\n",
            "Zdjęcia \"chore\" w zbiorze: valid 18\n",
            "Zdjęcia \"chore\" w zbiorze: test 0\n",
            "\n",
            "Zdjęcia \"zdrowe\" w zbiorze: train 50\n",
            "Zdjęcia \"zdrowe\" w zbiorze: valid 22\n",
            "Zdjęcia \"zdrowe\" w zbiorze: test 0\n"
          ],
          "name": "stdout"
        }
      ]
    },
    {
      "cell_type": "code",
      "metadata": {
        "colab": {
          "base_uri": "https://localhost:8080/"
        },
        "id": "cMoOPXo6s6s4",
        "outputId": "497143d2-0bba-4743-aefb-2f9519c4ad72"
      },
      "source": [
        "train_datagen = ImageDataGenerator(rescale = 1./255.)\r\n",
        "valid_datagen = ImageDataGenerator(rescale = 1./255.)\r\n",
        "\r\n",
        "in_shape = (448, 448)\r\n",
        "\r\n",
        "train_generator = train_datagen.flow_from_directory(directory = train_directory,\r\n",
        "                                                   target_size = in_shape,\r\n",
        "                                                   batch_size = 2,\r\n",
        "                                                   class_mode = 'binary')\r\n",
        "\r\n",
        "valid_generator = valid_datagen.flow_from_directory(directory = valid_directory,\r\n",
        "                                                   target_size = in_shape,\r\n",
        "                                                   batch_size = 1,\r\n",
        "                                                   class_mode = 'binary')"
      ],
      "execution_count": null,
      "outputs": [
        {
          "output_type": "stream",
          "text": [
            "Found 80 images belonging to 2 classes.\n",
            "Found 40 images belonging to 2 classes.\n"
          ],
          "name": "stdout"
        }
      ]
    },
    {
      "cell_type": "code",
      "metadata": {
        "id": "nD791IAwttZR"
      },
      "source": [
        ""
      ],
      "execution_count": null,
      "outputs": []
    },
    {
      "cell_type": "code",
      "metadata": {
        "colab": {
          "base_uri": "https://localhost:8080/"
        },
        "id": "NofvvWe7twWp",
        "outputId": "7d88e252-15f9-4104-bcc8-026c4b76b5bd"
      },
      "source": [
        "model = models.Sequential()\r\n",
        "\r\n",
        "model.add(layers.Conv2D(filters = 32, kernel_size = (3, 3),\r\n",
        "                        activation = 'relu', input_shape = (448, 448, 3)))\r\n",
        "model.add(layers.MaxPooling2D(pool_size = (2, 2)))\r\n",
        "\r\n",
        "model.add(layers.Conv2D(filters = 64, kernel_size = (3, 3),\r\n",
        "                        activation = 'relu'))\r\n",
        "model.add(layers.MaxPooling2D(pool_size = (2, 2)))\r\n",
        "\r\n",
        "model.add(layers.Conv2D(filters = 128, kernel_size = (3, 3),\r\n",
        "                        activation = 'relu'))\r\n",
        "model.add(layers.MaxPooling2D(pool_size = (2, 2)))\r\n",
        "\r\n",
        "model.add(layers.Conv2D(filters = 128, kernel_size = (3, 3),\r\n",
        "                        activation = 'relu'))\r\n",
        "model.add(layers.MaxPooling2D(pool_size = (2, 2)))\r\n",
        "\r\n",
        "model.add(layers.Flatten())\r\n",
        "model.add(layers.Dense(units = 512, activation = 'relu'))\r\n",
        "model.add(layers.Dense(units = 1, activation = 'sigmoid'))\r\n",
        "\r\n",
        "model.summary()\r\n",
        "\r\n",
        "model.compile(optimizer = 'rmsprop',\r\n",
        "             loss = 'binary_crossentropy',\r\n",
        "             metrics = ['accuracy'])"
      ],
      "execution_count": null,
      "outputs": [
        {
          "output_type": "stream",
          "text": [
            "Model: \"sequential\"\n",
            "_________________________________________________________________\n",
            "Layer (type)                 Output Shape              Param #   \n",
            "=================================================================\n",
            "conv2d (Conv2D)              (None, 446, 446, 32)      896       \n",
            "_________________________________________________________________\n",
            "max_pooling2d (MaxPooling2D) (None, 223, 223, 32)      0         \n",
            "_________________________________________________________________\n",
            "conv2d_1 (Conv2D)            (None, 221, 221, 64)      18496     \n",
            "_________________________________________________________________\n",
            "max_pooling2d_1 (MaxPooling2 (None, 110, 110, 64)      0         \n",
            "_________________________________________________________________\n",
            "conv2d_2 (Conv2D)            (None, 108, 108, 128)     73856     \n",
            "_________________________________________________________________\n",
            "max_pooling2d_2 (MaxPooling2 (None, 54, 54, 128)       0         \n",
            "_________________________________________________________________\n",
            "conv2d_3 (Conv2D)            (None, 52, 52, 128)       147584    \n",
            "_________________________________________________________________\n",
            "max_pooling2d_3 (MaxPooling2 (None, 26, 26, 128)       0         \n",
            "_________________________________________________________________\n",
            "flatten (Flatten)            (None, 86528)             0         \n",
            "_________________________________________________________________\n",
            "dense (Dense)                (None, 512)               44302848  \n",
            "_________________________________________________________________\n",
            "dense_1 (Dense)              (None, 1)                 513       \n",
            "=================================================================\n",
            "Total params: 44,544,193\n",
            "Trainable params: 44,544,193\n",
            "Non-trainable params: 0\n",
            "_________________________________________________________________\n"
          ],
          "name": "stdout"
        }
      ]
    },
    {
      "cell_type": "code",
      "metadata": {
        "colab": {
          "base_uri": "https://localhost:8080/"
        },
        "id": "tazNxLAat10g",
        "outputId": "cf9e8cd6-38ca-4df4-b4b9-49c5ccbde508"
      },
      "source": [
        "start = time.time()\r\n",
        "history = model.fit_generator(generator=train_generator,\r\n",
        "                             steps_per_epoch = 10,\r\n",
        "                             epochs = 20,\r\n",
        "                             validation_data=valid_generator,\r\n",
        "                             validation_steps = 16)\r\n",
        "\r\n",
        "stop = time.time()\r\n",
        "print('Czas przetwarzania: {}'.format(stop - start))\r\n",
        "model.save('dent_aug.h5')"
      ],
      "execution_count": null,
      "outputs": [
        {
          "output_type": "stream",
          "text": [
            "/usr/local/lib/python3.6/dist-packages/tensorflow/python/keras/engine/training.py:1844: UserWarning: `Model.fit_generator` is deprecated and will be removed in a future version. Please use `Model.fit`, which supports generators.\n",
            "  warnings.warn('`Model.fit_generator` is deprecated and '\n"
          ],
          "name": "stderr"
        },
        {
          "output_type": "stream",
          "text": [
            "Epoch 1/20\n",
            "10/10 [==============================] - 20s 2s/step - loss: 0.2008 - accuracy: 0.9000 - val_loss: 0.2892 - val_accuracy: 0.8750\n",
            "Epoch 2/20\n",
            "10/10 [==============================] - 20s 2s/step - loss: 0.0685 - accuracy: 0.9500 - val_loss: 0.7633 - val_accuracy: 0.8125\n",
            "Epoch 3/20\n",
            "10/10 [==============================] - 20s 2s/step - loss: 1.3087 - accuracy: 0.7500 - val_loss: 0.1741 - val_accuracy: 1.0000\n",
            "Epoch 4/20\n",
            "10/10 [==============================] - 20s 2s/step - loss: 0.2349 - accuracy: 0.9000 - val_loss: 0.7111 - val_accuracy: 0.8125\n",
            "Epoch 5/20\n",
            "10/10 [==============================] - 20s 2s/step - loss: 0.7017 - accuracy: 0.9000 - val_loss: 0.3782 - val_accuracy: 0.6875\n",
            "Epoch 6/20\n",
            "10/10 [==============================] - 20s 2s/step - loss: 0.2655 - accuracy: 0.8500 - val_loss: 0.1370 - val_accuracy: 1.0000\n",
            "Epoch 7/20\n",
            "10/10 [==============================] - 20s 2s/step - loss: 0.0888 - accuracy: 0.9500 - val_loss: 0.1542 - val_accuracy: 0.9375\n",
            "Epoch 8/20\n",
            "10/10 [==============================] - 22s 2s/step - loss: 0.0206 - accuracy: 1.0000 - val_loss: 0.0898 - val_accuracy: 0.9375\n",
            "Epoch 9/20\n",
            "10/10 [==============================] - 20s 2s/step - loss: 6.6476e-05 - accuracy: 1.0000 - val_loss: 0.0181 - val_accuracy: 1.0000\n",
            "Epoch 10/20\n",
            "10/10 [==============================] - 20s 2s/step - loss: 0.0094 - accuracy: 1.0000 - val_loss: 35.4943 - val_accuracy: 0.5000\n",
            "Epoch 11/20\n",
            "10/10 [==============================] - 20s 2s/step - loss: 3.7753 - accuracy: 0.9000 - val_loss: 1.8660 - val_accuracy: 0.6875\n",
            "Epoch 12/20\n",
            "10/10 [==============================] - 20s 2s/step - loss: 0.4210 - accuracy: 0.9000 - val_loss: 0.2564 - val_accuracy: 0.9375\n",
            "Epoch 13/20\n",
            "10/10 [==============================] - 20s 2s/step - loss: 0.1015 - accuracy: 0.9000 - val_loss: 0.4876 - val_accuracy: 0.9375\n",
            "Epoch 14/20\n",
            "10/10 [==============================] - 20s 2s/step - loss: 0.0029 - accuracy: 1.0000 - val_loss: 0.5039 - val_accuracy: 0.9375\n",
            "Epoch 15/20\n",
            "10/10 [==============================] - 20s 2s/step - loss: 1.9059 - accuracy: 0.9000 - val_loss: 0.0619 - val_accuracy: 0.9375\n",
            "Epoch 16/20\n",
            "10/10 [==============================] - 20s 2s/step - loss: 0.0043 - accuracy: 1.0000 - val_loss: 0.0024 - val_accuracy: 1.0000\n",
            "Epoch 17/20\n",
            "10/10 [==============================] - 20s 2s/step - loss: 7.4472e-05 - accuracy: 1.0000 - val_loss: 0.0010 - val_accuracy: 1.0000\n",
            "Epoch 18/20\n",
            "10/10 [==============================] - 20s 2s/step - loss: 6.6119e-05 - accuracy: 1.0000 - val_loss: 8.0180e-04 - val_accuracy: 1.0000\n",
            "Epoch 19/20\n",
            "10/10 [==============================] - 20s 2s/step - loss: 0.0109 - accuracy: 1.0000 - val_loss: 0.3917 - val_accuracy: 0.8125\n",
            "Epoch 20/20\n",
            "10/10 [==============================] - 20s 2s/step - loss: 3.0681 - accuracy: 0.8000 - val_loss: 0.1260 - val_accuracy: 0.8750\n",
            "Czas przetwarzania: 403.26713967323303\n"
          ],
          "name": "stdout"
        }
      ]
    },
    {
      "cell_type": "code",
      "metadata": {
        "colab": {
          "base_uri": "https://localhost:8080/",
          "height": 513
        },
        "id": "bgv40BRsuyy6",
        "outputId": "4595d8b0-7a61-4c84-e18e-2f80ea7a9bc6"
      },
      "source": [
        "make_accuracy_plot(history)"
      ],
      "execution_count": null,
      "outputs": [
        {
          "output_type": "display_data",
          "data": {
            "image/png": "[encoded data removed]",
            "text/plain": [
              "<Figure size 720x576 with 1 Axes>"
            ]
          },
          "metadata": {
            "tags": [],
            "needs_background": "light"
          }
        }
      ]
    },
    {
      "cell_type": "code",
      "metadata": {
        "id": "zGiZqS0YybNE"
      },
      "source": [
        ""
      ],
      "execution_count": null,
      "outputs": []
    }
  ]
}